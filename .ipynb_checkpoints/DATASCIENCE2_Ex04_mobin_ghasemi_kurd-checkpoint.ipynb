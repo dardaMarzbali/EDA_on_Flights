{
 "cells": [
  {
   "cell_type": "markdown",
   "id": "872ad650",
   "metadata": {},
   "source": [
    "# Exploratory Data Analysis On Flights.csv"
   ]
  },
  {
   "cell_type": "markdown",
   "id": "4451cef8",
   "metadata": {},
   "source": [
    "## Import Libraries"
   ]
  },
  {
   "cell_type": "code",
   "execution_count": 1,
   "id": "38a4dfd1",
   "metadata": {},
   "outputs": [],
   "source": [
    "import pandas as pd\n",
    "import matplotlib.pyplot as plt\n",
    "import numpy as np\n",
    "import seaborn as sns\n",
    "\n",
    "%matplotlib inline\n",
    "plt.rcParams[\"figure.figsize\"] = (8, 6)"
   ]
  },
  {
   "cell_type": "markdown",
   "id": "735d36a8",
   "metadata": {},
   "source": [
    "## Load Dataset"
   ]
  },
  {
   "cell_type": "code",
   "execution_count": 2,
   "id": "ee5cae13",
   "metadata": {},
   "outputs": [
    {
     "data": {
      "text/html": [
       "<div>\n",
       "<style scoped>\n",
       "    .dataframe tbody tr th:only-of-type {\n",
       "        vertical-align: middle;\n",
       "    }\n",
       "\n",
       "    .dataframe tbody tr th {\n",
       "        vertical-align: top;\n",
       "    }\n",
       "\n",
       "    .dataframe thead th {\n",
       "        text-align: right;\n",
       "    }\n",
       "</style>\n",
       "<table border=\"1\" class=\"dataframe\">\n",
       "  <thead>\n",
       "    <tr style=\"text-align: right;\">\n",
       "      <th></th>\n",
       "      <th>id</th>\n",
       "      <th>year</th>\n",
       "      <th>month</th>\n",
       "      <th>day</th>\n",
       "      <th>dep_time</th>\n",
       "      <th>sched_dep_time</th>\n",
       "      <th>dep_delay</th>\n",
       "      <th>arr_time</th>\n",
       "      <th>sched_arr_time</th>\n",
       "      <th>arr_delay</th>\n",
       "      <th>...</th>\n",
       "      <th>flight</th>\n",
       "      <th>tailnum</th>\n",
       "      <th>origin</th>\n",
       "      <th>dest</th>\n",
       "      <th>air_time</th>\n",
       "      <th>distance</th>\n",
       "      <th>hour</th>\n",
       "      <th>minute</th>\n",
       "      <th>time_hour</th>\n",
       "      <th>name</th>\n",
       "    </tr>\n",
       "  </thead>\n",
       "  <tbody>\n",
       "    <tr>\n",
       "      <th>0</th>\n",
       "      <td>0</td>\n",
       "      <td>2013</td>\n",
       "      <td>1</td>\n",
       "      <td>1</td>\n",
       "      <td>517.0</td>\n",
       "      <td>515</td>\n",
       "      <td>2.0</td>\n",
       "      <td>830.0</td>\n",
       "      <td>819</td>\n",
       "      <td>11.0</td>\n",
       "      <td>...</td>\n",
       "      <td>1545</td>\n",
       "      <td>N14228</td>\n",
       "      <td>EWR</td>\n",
       "      <td>IAH</td>\n",
       "      <td>227.0</td>\n",
       "      <td>1400</td>\n",
       "      <td>5</td>\n",
       "      <td>15</td>\n",
       "      <td>2013-01-01 05:00:00</td>\n",
       "      <td>United Air Lines Inc.</td>\n",
       "    </tr>\n",
       "    <tr>\n",
       "      <th>1</th>\n",
       "      <td>1</td>\n",
       "      <td>2013</td>\n",
       "      <td>1</td>\n",
       "      <td>1</td>\n",
       "      <td>533.0</td>\n",
       "      <td>529</td>\n",
       "      <td>4.0</td>\n",
       "      <td>850.0</td>\n",
       "      <td>830</td>\n",
       "      <td>20.0</td>\n",
       "      <td>...</td>\n",
       "      <td>1714</td>\n",
       "      <td>N24211</td>\n",
       "      <td>LGA</td>\n",
       "      <td>IAH</td>\n",
       "      <td>227.0</td>\n",
       "      <td>1416</td>\n",
       "      <td>5</td>\n",
       "      <td>29</td>\n",
       "      <td>2013-01-01 05:00:00</td>\n",
       "      <td>United Air Lines Inc.</td>\n",
       "    </tr>\n",
       "    <tr>\n",
       "      <th>2</th>\n",
       "      <td>2</td>\n",
       "      <td>2013</td>\n",
       "      <td>1</td>\n",
       "      <td>1</td>\n",
       "      <td>542.0</td>\n",
       "      <td>540</td>\n",
       "      <td>2.0</td>\n",
       "      <td>923.0</td>\n",
       "      <td>850</td>\n",
       "      <td>33.0</td>\n",
       "      <td>...</td>\n",
       "      <td>1141</td>\n",
       "      <td>N619AA</td>\n",
       "      <td>JFK</td>\n",
       "      <td>MIA</td>\n",
       "      <td>160.0</td>\n",
       "      <td>1089</td>\n",
       "      <td>5</td>\n",
       "      <td>40</td>\n",
       "      <td>2013-01-01 05:00:00</td>\n",
       "      <td>American Airlines Inc.</td>\n",
       "    </tr>\n",
       "    <tr>\n",
       "      <th>3</th>\n",
       "      <td>3</td>\n",
       "      <td>2013</td>\n",
       "      <td>1</td>\n",
       "      <td>1</td>\n",
       "      <td>544.0</td>\n",
       "      <td>545</td>\n",
       "      <td>-1.0</td>\n",
       "      <td>1004.0</td>\n",
       "      <td>1022</td>\n",
       "      <td>-18.0</td>\n",
       "      <td>...</td>\n",
       "      <td>725</td>\n",
       "      <td>N804JB</td>\n",
       "      <td>JFK</td>\n",
       "      <td>BQN</td>\n",
       "      <td>183.0</td>\n",
       "      <td>1576</td>\n",
       "      <td>5</td>\n",
       "      <td>45</td>\n",
       "      <td>2013-01-01 05:00:00</td>\n",
       "      <td>JetBlue Airways</td>\n",
       "    </tr>\n",
       "    <tr>\n",
       "      <th>4</th>\n",
       "      <td>4</td>\n",
       "      <td>2013</td>\n",
       "      <td>1</td>\n",
       "      <td>1</td>\n",
       "      <td>554.0</td>\n",
       "      <td>600</td>\n",
       "      <td>-6.0</td>\n",
       "      <td>812.0</td>\n",
       "      <td>837</td>\n",
       "      <td>-25.0</td>\n",
       "      <td>...</td>\n",
       "      <td>461</td>\n",
       "      <td>N668DN</td>\n",
       "      <td>LGA</td>\n",
       "      <td>ATL</td>\n",
       "      <td>116.0</td>\n",
       "      <td>762</td>\n",
       "      <td>6</td>\n",
       "      <td>0</td>\n",
       "      <td>2013-01-01 06:00:00</td>\n",
       "      <td>Delta Air Lines Inc.</td>\n",
       "    </tr>\n",
       "    <tr>\n",
       "      <th>5</th>\n",
       "      <td>5</td>\n",
       "      <td>2013</td>\n",
       "      <td>1</td>\n",
       "      <td>1</td>\n",
       "      <td>554.0</td>\n",
       "      <td>558</td>\n",
       "      <td>-4.0</td>\n",
       "      <td>740.0</td>\n",
       "      <td>728</td>\n",
       "      <td>12.0</td>\n",
       "      <td>...</td>\n",
       "      <td>1696</td>\n",
       "      <td>N39463</td>\n",
       "      <td>EWR</td>\n",
       "      <td>ORD</td>\n",
       "      <td>150.0</td>\n",
       "      <td>719</td>\n",
       "      <td>5</td>\n",
       "      <td>58</td>\n",
       "      <td>2013-01-01 05:00:00</td>\n",
       "      <td>United Air Lines Inc.</td>\n",
       "    </tr>\n",
       "    <tr>\n",
       "      <th>6</th>\n",
       "      <td>6</td>\n",
       "      <td>2013</td>\n",
       "      <td>1</td>\n",
       "      <td>1</td>\n",
       "      <td>555.0</td>\n",
       "      <td>600</td>\n",
       "      <td>-5.0</td>\n",
       "      <td>913.0</td>\n",
       "      <td>854</td>\n",
       "      <td>19.0</td>\n",
       "      <td>...</td>\n",
       "      <td>507</td>\n",
       "      <td>N516JB</td>\n",
       "      <td>EWR</td>\n",
       "      <td>FLL</td>\n",
       "      <td>158.0</td>\n",
       "      <td>1065</td>\n",
       "      <td>6</td>\n",
       "      <td>0</td>\n",
       "      <td>2013-01-01 06:00:00</td>\n",
       "      <td>JetBlue Airways</td>\n",
       "    </tr>\n",
       "    <tr>\n",
       "      <th>7</th>\n",
       "      <td>7</td>\n",
       "      <td>2013</td>\n",
       "      <td>1</td>\n",
       "      <td>1</td>\n",
       "      <td>557.0</td>\n",
       "      <td>600</td>\n",
       "      <td>-3.0</td>\n",
       "      <td>709.0</td>\n",
       "      <td>723</td>\n",
       "      <td>-14.0</td>\n",
       "      <td>...</td>\n",
       "      <td>5708</td>\n",
       "      <td>N829AS</td>\n",
       "      <td>LGA</td>\n",
       "      <td>IAD</td>\n",
       "      <td>53.0</td>\n",
       "      <td>229</td>\n",
       "      <td>6</td>\n",
       "      <td>0</td>\n",
       "      <td>2013-01-01 06:00:00</td>\n",
       "      <td>ExpressJet Airlines Inc.</td>\n",
       "    </tr>\n",
       "    <tr>\n",
       "      <th>8</th>\n",
       "      <td>8</td>\n",
       "      <td>2013</td>\n",
       "      <td>1</td>\n",
       "      <td>1</td>\n",
       "      <td>557.0</td>\n",
       "      <td>600</td>\n",
       "      <td>-3.0</td>\n",
       "      <td>838.0</td>\n",
       "      <td>846</td>\n",
       "      <td>-8.0</td>\n",
       "      <td>...</td>\n",
       "      <td>79</td>\n",
       "      <td>N593JB</td>\n",
       "      <td>JFK</td>\n",
       "      <td>MCO</td>\n",
       "      <td>140.0</td>\n",
       "      <td>944</td>\n",
       "      <td>6</td>\n",
       "      <td>0</td>\n",
       "      <td>2013-01-01 06:00:00</td>\n",
       "      <td>JetBlue Airways</td>\n",
       "    </tr>\n",
       "    <tr>\n",
       "      <th>9</th>\n",
       "      <td>9</td>\n",
       "      <td>2013</td>\n",
       "      <td>1</td>\n",
       "      <td>1</td>\n",
       "      <td>558.0</td>\n",
       "      <td>600</td>\n",
       "      <td>-2.0</td>\n",
       "      <td>753.0</td>\n",
       "      <td>745</td>\n",
       "      <td>8.0</td>\n",
       "      <td>...</td>\n",
       "      <td>301</td>\n",
       "      <td>N3ALAA</td>\n",
       "      <td>LGA</td>\n",
       "      <td>ORD</td>\n",
       "      <td>138.0</td>\n",
       "      <td>733</td>\n",
       "      <td>6</td>\n",
       "      <td>0</td>\n",
       "      <td>2013-01-01 06:00:00</td>\n",
       "      <td>American Airlines Inc.</td>\n",
       "    </tr>\n",
       "  </tbody>\n",
       "</table>\n",
       "<p>10 rows × 21 columns</p>\n",
       "</div>"
      ],
      "text/plain": [
       "   id  year  month  day  dep_time  sched_dep_time  dep_delay  arr_time  \\\n",
       "0   0  2013      1    1     517.0             515        2.0     830.0   \n",
       "1   1  2013      1    1     533.0             529        4.0     850.0   \n",
       "2   2  2013      1    1     542.0             540        2.0     923.0   \n",
       "3   3  2013      1    1     544.0             545       -1.0    1004.0   \n",
       "4   4  2013      1    1     554.0             600       -6.0     812.0   \n",
       "5   5  2013      1    1     554.0             558       -4.0     740.0   \n",
       "6   6  2013      1    1     555.0             600       -5.0     913.0   \n",
       "7   7  2013      1    1     557.0             600       -3.0     709.0   \n",
       "8   8  2013      1    1     557.0             600       -3.0     838.0   \n",
       "9   9  2013      1    1     558.0             600       -2.0     753.0   \n",
       "\n",
       "   sched_arr_time  arr_delay  ... flight  tailnum origin dest air_time  \\\n",
       "0             819       11.0  ...   1545   N14228    EWR  IAH    227.0   \n",
       "1             830       20.0  ...   1714   N24211    LGA  IAH    227.0   \n",
       "2             850       33.0  ...   1141   N619AA    JFK  MIA    160.0   \n",
       "3            1022      -18.0  ...    725   N804JB    JFK  BQN    183.0   \n",
       "4             837      -25.0  ...    461   N668DN    LGA  ATL    116.0   \n",
       "5             728       12.0  ...   1696   N39463    EWR  ORD    150.0   \n",
       "6             854       19.0  ...    507   N516JB    EWR  FLL    158.0   \n",
       "7             723      -14.0  ...   5708   N829AS    LGA  IAD     53.0   \n",
       "8             846       -8.0  ...     79   N593JB    JFK  MCO    140.0   \n",
       "9             745        8.0  ...    301   N3ALAA    LGA  ORD    138.0   \n",
       "\n",
       "   distance  hour  minute            time_hour                      name  \n",
       "0      1400     5      15  2013-01-01 05:00:00     United Air Lines Inc.  \n",
       "1      1416     5      29  2013-01-01 05:00:00     United Air Lines Inc.  \n",
       "2      1089     5      40  2013-01-01 05:00:00    American Airlines Inc.  \n",
       "3      1576     5      45  2013-01-01 05:00:00           JetBlue Airways  \n",
       "4       762     6       0  2013-01-01 06:00:00      Delta Air Lines Inc.  \n",
       "5       719     5      58  2013-01-01 05:00:00     United Air Lines Inc.  \n",
       "6      1065     6       0  2013-01-01 06:00:00           JetBlue Airways  \n",
       "7       229     6       0  2013-01-01 06:00:00  ExpressJet Airlines Inc.  \n",
       "8       944     6       0  2013-01-01 06:00:00           JetBlue Airways  \n",
       "9       733     6       0  2013-01-01 06:00:00    American Airlines Inc.  \n",
       "\n",
       "[10 rows x 21 columns]"
      ]
     },
     "execution_count": 2,
     "metadata": {},
     "output_type": "execute_result"
    }
   ],
   "source": [
    "df = pd.read_csv('flights.csv')\n",
    "df.head(10)"
   ]
  },
  {
   "cell_type": "code",
   "execution_count": 3,
   "id": "a76a56b3",
   "metadata": {},
   "outputs": [
    {
     "data": {
      "text/html": [
       "<div>\n",
       "<style scoped>\n",
       "    .dataframe tbody tr th:only-of-type {\n",
       "        vertical-align: middle;\n",
       "    }\n",
       "\n",
       "    .dataframe tbody tr th {\n",
       "        vertical-align: top;\n",
       "    }\n",
       "\n",
       "    .dataframe thead th {\n",
       "        text-align: right;\n",
       "    }\n",
       "</style>\n",
       "<table border=\"1\" class=\"dataframe\">\n",
       "  <thead>\n",
       "    <tr style=\"text-align: right;\">\n",
       "      <th></th>\n",
       "      <th>id</th>\n",
       "      <th>year</th>\n",
       "      <th>month</th>\n",
       "      <th>day</th>\n",
       "      <th>dep_time</th>\n",
       "      <th>sched_dep_time</th>\n",
       "      <th>dep_delay</th>\n",
       "      <th>arr_time</th>\n",
       "      <th>sched_arr_time</th>\n",
       "      <th>arr_delay</th>\n",
       "      <th>...</th>\n",
       "      <th>flight</th>\n",
       "      <th>tailnum</th>\n",
       "      <th>origin</th>\n",
       "      <th>dest</th>\n",
       "      <th>air_time</th>\n",
       "      <th>distance</th>\n",
       "      <th>hour</th>\n",
       "      <th>minute</th>\n",
       "      <th>time_hour</th>\n",
       "      <th>name</th>\n",
       "    </tr>\n",
       "  </thead>\n",
       "  <tbody>\n",
       "    <tr>\n",
       "      <th>336766</th>\n",
       "      <td>336766</td>\n",
       "      <td>2013</td>\n",
       "      <td>9</td>\n",
       "      <td>30</td>\n",
       "      <td>2240.0</td>\n",
       "      <td>2250</td>\n",
       "      <td>-10.0</td>\n",
       "      <td>2347.0</td>\n",
       "      <td>7</td>\n",
       "      <td>-20.0</td>\n",
       "      <td>...</td>\n",
       "      <td>2002</td>\n",
       "      <td>N281JB</td>\n",
       "      <td>JFK</td>\n",
       "      <td>BUF</td>\n",
       "      <td>52.0</td>\n",
       "      <td>301</td>\n",
       "      <td>22</td>\n",
       "      <td>50</td>\n",
       "      <td>2013-09-30 22:00:00</td>\n",
       "      <td>JetBlue Airways</td>\n",
       "    </tr>\n",
       "    <tr>\n",
       "      <th>336767</th>\n",
       "      <td>336767</td>\n",
       "      <td>2013</td>\n",
       "      <td>9</td>\n",
       "      <td>30</td>\n",
       "      <td>2241.0</td>\n",
       "      <td>2246</td>\n",
       "      <td>-5.0</td>\n",
       "      <td>2345.0</td>\n",
       "      <td>1</td>\n",
       "      <td>-16.0</td>\n",
       "      <td>...</td>\n",
       "      <td>486</td>\n",
       "      <td>N346JB</td>\n",
       "      <td>JFK</td>\n",
       "      <td>ROC</td>\n",
       "      <td>47.0</td>\n",
       "      <td>264</td>\n",
       "      <td>22</td>\n",
       "      <td>46</td>\n",
       "      <td>2013-09-30 22:00:00</td>\n",
       "      <td>JetBlue Airways</td>\n",
       "    </tr>\n",
       "    <tr>\n",
       "      <th>336768</th>\n",
       "      <td>336768</td>\n",
       "      <td>2013</td>\n",
       "      <td>9</td>\n",
       "      <td>30</td>\n",
       "      <td>2307.0</td>\n",
       "      <td>2255</td>\n",
       "      <td>12.0</td>\n",
       "      <td>2359.0</td>\n",
       "      <td>2358</td>\n",
       "      <td>1.0</td>\n",
       "      <td>...</td>\n",
       "      <td>718</td>\n",
       "      <td>N565JB</td>\n",
       "      <td>JFK</td>\n",
       "      <td>BOS</td>\n",
       "      <td>33.0</td>\n",
       "      <td>187</td>\n",
       "      <td>22</td>\n",
       "      <td>55</td>\n",
       "      <td>2013-09-30 22:00:00</td>\n",
       "      <td>JetBlue Airways</td>\n",
       "    </tr>\n",
       "    <tr>\n",
       "      <th>336769</th>\n",
       "      <td>336769</td>\n",
       "      <td>2013</td>\n",
       "      <td>9</td>\n",
       "      <td>30</td>\n",
       "      <td>2349.0</td>\n",
       "      <td>2359</td>\n",
       "      <td>-10.0</td>\n",
       "      <td>325.0</td>\n",
       "      <td>350</td>\n",
       "      <td>-25.0</td>\n",
       "      <td>...</td>\n",
       "      <td>745</td>\n",
       "      <td>N516JB</td>\n",
       "      <td>JFK</td>\n",
       "      <td>PSE</td>\n",
       "      <td>196.0</td>\n",
       "      <td>1617</td>\n",
       "      <td>23</td>\n",
       "      <td>59</td>\n",
       "      <td>2013-09-30 23:00:00</td>\n",
       "      <td>JetBlue Airways</td>\n",
       "    </tr>\n",
       "    <tr>\n",
       "      <th>336770</th>\n",
       "      <td>336770</td>\n",
       "      <td>2013</td>\n",
       "      <td>9</td>\n",
       "      <td>30</td>\n",
       "      <td>NaN</td>\n",
       "      <td>1842</td>\n",
       "      <td>NaN</td>\n",
       "      <td>NaN</td>\n",
       "      <td>2019</td>\n",
       "      <td>NaN</td>\n",
       "      <td>...</td>\n",
       "      <td>5274</td>\n",
       "      <td>N740EV</td>\n",
       "      <td>LGA</td>\n",
       "      <td>BNA</td>\n",
       "      <td>NaN</td>\n",
       "      <td>764</td>\n",
       "      <td>18</td>\n",
       "      <td>42</td>\n",
       "      <td>2013-09-30 18:00:00</td>\n",
       "      <td>ExpressJet Airlines Inc.</td>\n",
       "    </tr>\n",
       "    <tr>\n",
       "      <th>336771</th>\n",
       "      <td>336771</td>\n",
       "      <td>2013</td>\n",
       "      <td>9</td>\n",
       "      <td>30</td>\n",
       "      <td>NaN</td>\n",
       "      <td>1455</td>\n",
       "      <td>NaN</td>\n",
       "      <td>NaN</td>\n",
       "      <td>1634</td>\n",
       "      <td>NaN</td>\n",
       "      <td>...</td>\n",
       "      <td>3393</td>\n",
       "      <td>NaN</td>\n",
       "      <td>JFK</td>\n",
       "      <td>DCA</td>\n",
       "      <td>NaN</td>\n",
       "      <td>213</td>\n",
       "      <td>14</td>\n",
       "      <td>55</td>\n",
       "      <td>2013-09-30 14:00:00</td>\n",
       "      <td>Endeavor Air Inc.</td>\n",
       "    </tr>\n",
       "    <tr>\n",
       "      <th>336772</th>\n",
       "      <td>336772</td>\n",
       "      <td>2013</td>\n",
       "      <td>9</td>\n",
       "      <td>30</td>\n",
       "      <td>NaN</td>\n",
       "      <td>2200</td>\n",
       "      <td>NaN</td>\n",
       "      <td>NaN</td>\n",
       "      <td>2312</td>\n",
       "      <td>NaN</td>\n",
       "      <td>...</td>\n",
       "      <td>3525</td>\n",
       "      <td>NaN</td>\n",
       "      <td>LGA</td>\n",
       "      <td>SYR</td>\n",
       "      <td>NaN</td>\n",
       "      <td>198</td>\n",
       "      <td>22</td>\n",
       "      <td>0</td>\n",
       "      <td>2013-09-30 22:00:00</td>\n",
       "      <td>Endeavor Air Inc.</td>\n",
       "    </tr>\n",
       "    <tr>\n",
       "      <th>336773</th>\n",
       "      <td>336773</td>\n",
       "      <td>2013</td>\n",
       "      <td>9</td>\n",
       "      <td>30</td>\n",
       "      <td>NaN</td>\n",
       "      <td>1210</td>\n",
       "      <td>NaN</td>\n",
       "      <td>NaN</td>\n",
       "      <td>1330</td>\n",
       "      <td>NaN</td>\n",
       "      <td>...</td>\n",
       "      <td>3461</td>\n",
       "      <td>N535MQ</td>\n",
       "      <td>LGA</td>\n",
       "      <td>BNA</td>\n",
       "      <td>NaN</td>\n",
       "      <td>764</td>\n",
       "      <td>12</td>\n",
       "      <td>10</td>\n",
       "      <td>2013-09-30 12:00:00</td>\n",
       "      <td>Envoy Air</td>\n",
       "    </tr>\n",
       "    <tr>\n",
       "      <th>336774</th>\n",
       "      <td>336774</td>\n",
       "      <td>2013</td>\n",
       "      <td>9</td>\n",
       "      <td>30</td>\n",
       "      <td>NaN</td>\n",
       "      <td>1159</td>\n",
       "      <td>NaN</td>\n",
       "      <td>NaN</td>\n",
       "      <td>1344</td>\n",
       "      <td>NaN</td>\n",
       "      <td>...</td>\n",
       "      <td>3572</td>\n",
       "      <td>N511MQ</td>\n",
       "      <td>LGA</td>\n",
       "      <td>CLE</td>\n",
       "      <td>NaN</td>\n",
       "      <td>419</td>\n",
       "      <td>11</td>\n",
       "      <td>59</td>\n",
       "      <td>2013-09-30 11:00:00</td>\n",
       "      <td>Envoy Air</td>\n",
       "    </tr>\n",
       "    <tr>\n",
       "      <th>336775</th>\n",
       "      <td>336775</td>\n",
       "      <td>2013</td>\n",
       "      <td>9</td>\n",
       "      <td>30</td>\n",
       "      <td>NaN</td>\n",
       "      <td>840</td>\n",
       "      <td>NaN</td>\n",
       "      <td>NaN</td>\n",
       "      <td>1020</td>\n",
       "      <td>NaN</td>\n",
       "      <td>...</td>\n",
       "      <td>3531</td>\n",
       "      <td>N839MQ</td>\n",
       "      <td>LGA</td>\n",
       "      <td>RDU</td>\n",
       "      <td>NaN</td>\n",
       "      <td>431</td>\n",
       "      <td>8</td>\n",
       "      <td>40</td>\n",
       "      <td>2013-09-30 08:00:00</td>\n",
       "      <td>Envoy Air</td>\n",
       "    </tr>\n",
       "  </tbody>\n",
       "</table>\n",
       "<p>10 rows × 21 columns</p>\n",
       "</div>"
      ],
      "text/plain": [
       "            id  year  month  day  dep_time  sched_dep_time  dep_delay  \\\n",
       "336766  336766  2013      9   30    2240.0            2250      -10.0   \n",
       "336767  336767  2013      9   30    2241.0            2246       -5.0   \n",
       "336768  336768  2013      9   30    2307.0            2255       12.0   \n",
       "336769  336769  2013      9   30    2349.0            2359      -10.0   \n",
       "336770  336770  2013      9   30       NaN            1842        NaN   \n",
       "336771  336771  2013      9   30       NaN            1455        NaN   \n",
       "336772  336772  2013      9   30       NaN            2200        NaN   \n",
       "336773  336773  2013      9   30       NaN            1210        NaN   \n",
       "336774  336774  2013      9   30       NaN            1159        NaN   \n",
       "336775  336775  2013      9   30       NaN             840        NaN   \n",
       "\n",
       "        arr_time  sched_arr_time  arr_delay  ... flight  tailnum origin dest  \\\n",
       "336766    2347.0               7      -20.0  ...   2002   N281JB    JFK  BUF   \n",
       "336767    2345.0               1      -16.0  ...    486   N346JB    JFK  ROC   \n",
       "336768    2359.0            2358        1.0  ...    718   N565JB    JFK  BOS   \n",
       "336769     325.0             350      -25.0  ...    745   N516JB    JFK  PSE   \n",
       "336770       NaN            2019        NaN  ...   5274   N740EV    LGA  BNA   \n",
       "336771       NaN            1634        NaN  ...   3393      NaN    JFK  DCA   \n",
       "336772       NaN            2312        NaN  ...   3525      NaN    LGA  SYR   \n",
       "336773       NaN            1330        NaN  ...   3461   N535MQ    LGA  BNA   \n",
       "336774       NaN            1344        NaN  ...   3572   N511MQ    LGA  CLE   \n",
       "336775       NaN            1020        NaN  ...   3531   N839MQ    LGA  RDU   \n",
       "\n",
       "       air_time  distance  hour  minute            time_hour  \\\n",
       "336766     52.0       301    22      50  2013-09-30 22:00:00   \n",
       "336767     47.0       264    22      46  2013-09-30 22:00:00   \n",
       "336768     33.0       187    22      55  2013-09-30 22:00:00   \n",
       "336769    196.0      1617    23      59  2013-09-30 23:00:00   \n",
       "336770      NaN       764    18      42  2013-09-30 18:00:00   \n",
       "336771      NaN       213    14      55  2013-09-30 14:00:00   \n",
       "336772      NaN       198    22       0  2013-09-30 22:00:00   \n",
       "336773      NaN       764    12      10  2013-09-30 12:00:00   \n",
       "336774      NaN       419    11      59  2013-09-30 11:00:00   \n",
       "336775      NaN       431     8      40  2013-09-30 08:00:00   \n",
       "\n",
       "                            name  \n",
       "336766           JetBlue Airways  \n",
       "336767           JetBlue Airways  \n",
       "336768           JetBlue Airways  \n",
       "336769           JetBlue Airways  \n",
       "336770  ExpressJet Airlines Inc.  \n",
       "336771         Endeavor Air Inc.  \n",
       "336772         Endeavor Air Inc.  \n",
       "336773                 Envoy Air  \n",
       "336774                 Envoy Air  \n",
       "336775                 Envoy Air  \n",
       "\n",
       "[10 rows x 21 columns]"
      ]
     },
     "execution_count": 3,
     "metadata": {},
     "output_type": "execute_result"
    }
   ],
   "source": [
    "df.tail(10)"
   ]
  },
  {
   "cell_type": "markdown",
   "id": "421e4236",
   "metadata": {},
   "source": [
    "## Shape of DataSet "
   ]
  },
  {
   "cell_type": "code",
   "execution_count": 5,
   "id": "c2fcc243",
   "metadata": {},
   "outputs": [
    {
     "data": {
      "text/plain": [
       "(336776, 21)"
      ]
     },
     "execution_count": 5,
     "metadata": {},
     "output_type": "execute_result"
    }
   ],
   "source": [
    "np.shape(df)"
   ]
  },
  {
   "cell_type": "markdown",
   "id": "d66506c2",
   "metadata": {},
   "source": [
    "## All Dataset Columns "
   ]
  },
  {
   "cell_type": "code",
   "execution_count": null,
   "id": "bc5a133b",
   "metadata": {},
   "outputs": [],
   "source": [
    "df.columns"
   ]
  },
  {
   "cell_type": "markdown",
   "id": "0e12a14b",
   "metadata": {},
   "source": [
    "## Number Of Columns "
   ]
  },
  {
   "cell_type": "code",
   "execution_count": null,
   "id": "eade808e",
   "metadata": {},
   "outputs": [],
   "source": [
    "len(df.columns)"
   ]
  },
  {
   "cell_type": "markdown",
   "id": "c95cc12f",
   "metadata": {},
   "source": [
    "## Cross Table Of Columns  "
   ]
  },
  {
   "cell_type": "code",
   "execution_count": null,
   "id": "e8d5df57",
   "metadata": {
    "scrolled": true
   },
   "outputs": [],
   "source": [
    "pd.crosstab(df.columns, \"\")"
   ]
  },
  {
   "cell_type": "markdown",
   "id": "1016f850",
   "metadata": {},
   "source": [
    "## Delete time_hour Column  "
   ]
  },
  {
   "cell_type": "code",
   "execution_count": null,
   "id": "7002fd9f",
   "metadata": {},
   "outputs": [],
   "source": [
    "df = df.drop(['time_hour'], axis=1)"
   ]
  },
  {
   "cell_type": "markdown",
   "id": "2f290741",
   "metadata": {},
   "source": [
    "## Seperating Numeric Columns & Categorical Columns "
   ]
  },
  {
   "cell_type": "code",
   "execution_count": null,
   "id": "057df346",
   "metadata": {},
   "outputs": [],
   "source": [
    "cat_cols=df.select_dtypes(include=['object']).columns.tolist()\n",
    "num_cols = df.select_dtypes(include=np.number).columns.tolist()\n",
    "print(\"Categorical Variables:\")\n",
    "print(cat_cols)\n",
    "print(\"Numerical Variables:\")\n",
    "print(num_cols)"
   ]
  },
  {
   "cell_type": "markdown",
   "id": "b729a46d",
   "metadata": {},
   "source": [
    "## Drawing Histplots & BoxPlots to Colculating Skewness & Outliers "
   ]
  },
  {
   "cell_type": "code",
   "execution_count": null,
   "id": "3469758d",
   "metadata": {},
   "outputs": [],
   "source": [
    "for col in num_cols:\n",
    "    print(col)\n",
    "    print('Skew :', round(df[col].skew(), 2))\n",
    "    plt.figure(figsize = (15, 4))\n",
    "    plt.subplot(1, 2, 1)\n",
    "    df[col].hist(grid=False)\n",
    "    plt.ylabel('count')\n",
    "    plt.subplot(1, 2, 2)\n",
    "    sns.boxplot(x=df[col])\n",
    "    plt.show()"
   ]
  },
  {
   "cell_type": "code",
   "execution_count": null,
   "id": "cd465aad",
   "metadata": {},
   "outputs": [],
   "source": []
  },
  {
   "cell_type": "code",
   "execution_count": null,
   "id": "60007577",
   "metadata": {},
   "outputs": [],
   "source": []
  },
  {
   "cell_type": "markdown",
   "id": "fad37d46",
   "metadata": {},
   "source": [
    "## All Information About This DataFrame "
   ]
  },
  {
   "cell_type": "code",
   "execution_count": null,
   "id": "3d5cbe4c",
   "metadata": {},
   "outputs": [],
   "source": [
    "df.info()"
   ]
  },
  {
   "cell_type": "markdown",
   "id": "4f107762",
   "metadata": {},
   "source": [
    "## Statistically Description Of DataFrame"
   ]
  },
  {
   "cell_type": "code",
   "execution_count": null,
   "id": "314d28a5",
   "metadata": {
    "scrolled": true
   },
   "outputs": [],
   "source": [
    "df.describe(include=\"all\").T"
   ]
  },
  {
   "cell_type": "markdown",
   "id": "18169b3b",
   "metadata": {},
   "source": [
    "## Statistically Description Of Object Data Types "
   ]
  },
  {
   "cell_type": "code",
   "execution_count": null,
   "id": "c30d97fa",
   "metadata": {
    "scrolled": false
   },
   "outputs": [],
   "source": [
    "df.describe(include = [\"object\"])"
   ]
  },
  {
   "cell_type": "markdown",
   "id": "06a0174f",
   "metadata": {},
   "source": [
    "## Deleting All Null Rows Without Creating New DataFrame(inplace=True) "
   ]
  },
  {
   "cell_type": "code",
   "execution_count": null,
   "id": "945c8359",
   "metadata": {},
   "outputs": [],
   "source": [
    "df.dropna(inplace=True)"
   ]
  },
  {
   "cell_type": "markdown",
   "id": "5ed1d88d",
   "metadata": {},
   "source": [
    "## Transposed Statistically Description Of DataFrame  "
   ]
  },
  {
   "cell_type": "code",
   "execution_count": null,
   "id": "aaa4a442",
   "metadata": {
    "scrolled": true
   },
   "outputs": [],
   "source": [
    "df.describe(include=\"all\").T"
   ]
  },
  {
   "cell_type": "markdown",
   "id": "258fab00",
   "metadata": {},
   "source": [
    "## Deleting All Duplicate Rows Without Creating New DataFrame(inplace=True)"
   ]
  },
  {
   "cell_type": "code",
   "execution_count": null,
   "id": "1ee3d297",
   "metadata": {},
   "outputs": [],
   "source": [
    "df.drop_duplicates(inplace=True)"
   ]
  },
  {
   "cell_type": "markdown",
   "id": "46be198e",
   "metadata": {},
   "source": [
    "## Transposed Statistically Description Of DataFrame "
   ]
  },
  {
   "cell_type": "code",
   "execution_count": null,
   "id": "81613091",
   "metadata": {
    "scrolled": true
   },
   "outputs": [],
   "source": [
    "df.describe(include=\"all\").T"
   ]
  },
  {
   "cell_type": "markdown",
   "id": "b8871429",
   "metadata": {},
   "source": [
    "## All Dataset Columns "
   ]
  },
  {
   "cell_type": "code",
   "execution_count": null,
   "id": "41c40c8e",
   "metadata": {
    "scrolled": true
   },
   "outputs": [],
   "source": [
    "df.columns"
   ]
  },
  {
   "cell_type": "markdown",
   "id": "b0e58628",
   "metadata": {},
   "source": [
    "## Unique Values of Each Column "
   ]
  },
  {
   "cell_type": "code",
   "execution_count": null,
   "id": "09bc5a0f",
   "metadata": {
    "scrolled": true
   },
   "outputs": [],
   "source": [
    "df.nunique()"
   ]
  },
  {
   "cell_type": "markdown",
   "id": "046206f6",
   "metadata": {},
   "source": [
    "## box Plot on  air_time column to Recognizing Outliers"
   ]
  },
  {
   "cell_type": "code",
   "execution_count": null,
   "id": "286b6681",
   "metadata": {},
   "outputs": [],
   "source": [
    "sns.boxplot(x = df['air_time'])\n",
    "plt.show()"
   ]
  },
  {
   "cell_type": "markdown",
   "id": "f0b6bc2b",
   "metadata": {},
   "source": [
    "## Using IQR Technique to Recognizing Outliers on Special column "
   ]
  },
  {
   "cell_type": "code",
   "execution_count": null,
   "id": "81102511",
   "metadata": {},
   "outputs": [],
   "source": [
    "def iqr_technique(DFcolumn):\n",
    "  Q1 = np.percentile(DFcolumn, 25)\n",
    "  Q3 = np.percentile(DFcolumn, 75)\n",
    "  IQR = Q3 - Q1\n",
    "  lower_range = Q1 - (1.5 * IQR)\n",
    "  upper_range = Q3 + (1.5 * IQR)                        \n",
    "\n",
    "  return lower_range,upper_range"
   ]
  },
  {
   "cell_type": "markdown",
   "id": "4c44b799",
   "metadata": {},
   "source": [
    "## Apllying IQR Function on air_time Column "
   ]
  },
  {
   "cell_type": "code",
   "execution_count": null,
   "id": "43666faa",
   "metadata": {},
   "outputs": [],
   "source": [
    "lower_bound,upper_bound = iqr_technique(df['air_time'])\n",
    "new_df = df[(df.air_time>lower_bound) & (df.air_time < upper_bound)]"
   ]
  },
  {
   "cell_type": "markdown",
   "id": "ddd93dfe",
   "metadata": {},
   "source": [
    "## New Box Plot on air_time Column with Removing Outliers "
   ]
  },
  {
   "cell_type": "code",
   "execution_count": null,
   "id": "8be6085b",
   "metadata": {
    "scrolled": true
   },
   "outputs": [],
   "source": [
    "sns.boxplot(x = new_df['air_time'])"
   ]
  },
  {
   "cell_type": "markdown",
   "id": "324c4f53",
   "metadata": {},
   "source": [
    "## Print Percentage Of Columns dep_time & sched_dep_time Has Vlaues Less Than 1000 By Deleted Null Values "
   ]
  },
  {
   "cell_type": "code",
   "execution_count": null,
   "id": "e22b0dd9",
   "metadata": {
    "scrolled": true
   },
   "outputs": [],
   "source": [
    "print(len(df[['dep_time', 'sched_dep_time']].apply(lambda x: x[x < 1000]).dropna()) / len(df) * 100, \"%\")"
   ]
  },
  {
   "cell_type": "markdown",
   "id": "76e03ca8",
   "metadata": {},
   "source": [
    "## Print Percentage Of Column distance Has Vlaues Greater Than 2000 By Deleted Null Values "
   ]
  },
  {
   "cell_type": "code",
   "execution_count": null,
   "id": "114ad578",
   "metadata": {},
   "outputs": [],
   "source": [
    "print(len(df[['distance']].apply(lambda x: x[x > 2000]).dropna()) / len(df) * 100, \"%\")"
   ]
  },
  {
   "cell_type": "markdown",
   "id": "7f01eb74",
   "metadata": {},
   "source": [
    "## Carrier Types Count"
   ]
  },
  {
   "cell_type": "code",
   "execution_count": null,
   "id": "028e0760",
   "metadata": {
    "scrolled": false
   },
   "outputs": [],
   "source": [
    "df[\"carrier\"].value_counts()"
   ]
  },
  {
   "cell_type": "markdown",
   "id": "3e83f8e3",
   "metadata": {},
   "source": [
    "## Tailnumber Types Count"
   ]
  },
  {
   "cell_type": "code",
   "execution_count": null,
   "id": "ec73378d",
   "metadata": {},
   "outputs": [],
   "source": [
    "df[\"tailnum\"].value_counts()"
   ]
  },
  {
   "cell_type": "markdown",
   "id": "348294a9",
   "metadata": {},
   "source": [
    "## Origin Types Count"
   ]
  },
  {
   "cell_type": "code",
   "execution_count": null,
   "id": "b772fd58",
   "metadata": {},
   "outputs": [],
   "source": [
    "df[\"origin\"].value_counts()"
   ]
  },
  {
   "cell_type": "markdown",
   "id": "42ddc18d",
   "metadata": {},
   "source": [
    "## Destination Types Count"
   ]
  },
  {
   "cell_type": "code",
   "execution_count": null,
   "id": "1dcf059b",
   "metadata": {},
   "outputs": [],
   "source": [
    "df[\"dest\"].value_counts()"
   ]
  },
  {
   "cell_type": "markdown",
   "id": "bec886a3",
   "metadata": {},
   "source": [
    "## Airline Names Types Count "
   ]
  },
  {
   "cell_type": "code",
   "execution_count": null,
   "id": "b86da8ef",
   "metadata": {},
   "outputs": [],
   "source": [
    "df[\"name\"].value_counts()"
   ]
  },
  {
   "cell_type": "markdown",
   "id": "7650b234",
   "metadata": {},
   "source": [
    "## Normalized Origin Types Count (percentage)"
   ]
  },
  {
   "cell_type": "code",
   "execution_count": null,
   "id": "2b4ba5d5",
   "metadata": {},
   "outputs": [],
   "source": [
    "df[\"origin\"].value_counts(normalize = True) * 100"
   ]
  },
  {
   "cell_type": "markdown",
   "id": "5b9b83e6",
   "metadata": {},
   "source": [
    "## Normalized Destination Types Count (percentage)"
   ]
  },
  {
   "cell_type": "code",
   "execution_count": null,
   "id": "2a0e8403",
   "metadata": {},
   "outputs": [],
   "source": [
    "df[\"dest\"].value_counts(normalize = True) * 100"
   ]
  },
  {
   "cell_type": "markdown",
   "id": "bdbc50ce",
   "metadata": {},
   "source": [
    "## Sort DataFrame By Column arr_delay in Descending Order "
   ]
  },
  {
   "cell_type": "code",
   "execution_count": null,
   "id": "6410fe55",
   "metadata": {},
   "outputs": [],
   "source": [
    "df.sort_values(by = \"arr_delay\", ascending = False).head()"
   ]
  },
  {
   "cell_type": "markdown",
   "id": "4a51ff8f",
   "metadata": {},
   "source": [
    "## Sort DataFrame By Columns year in Descending & arr_time in  Descending & distance in Ascending Order "
   ]
  },
  {
   "cell_type": "code",
   "execution_count": null,
   "id": "047bd31e",
   "metadata": {},
   "outputs": [],
   "source": [
    "df.sort_values(by = [\"year\", \"arr_time\", \"distance\"], ascending = [False, False, True]).head()"
   ]
  },
  {
   "cell_type": "markdown",
   "id": "1e8b7ef4",
   "metadata": {},
   "source": [
    "## All Dataset Columns "
   ]
  },
  {
   "cell_type": "code",
   "execution_count": null,
   "id": "54c2e332",
   "metadata": {},
   "outputs": [],
   "source": [
    "df.columns"
   ]
  },
  {
   "cell_type": "markdown",
   "id": "099b5a9b",
   "metadata": {},
   "source": [
    "## Fill Null Values in dep_time Column By Other Value's Mean "
   ]
  },
  {
   "cell_type": "code",
   "execution_count": null,
   "id": "a7460a4f",
   "metadata": {},
   "outputs": [],
   "source": [
    "x = df[\"dep_time\"].mean()\n",
    "df[\"dep_time\"].fillna(x, inplace=True)"
   ]
  },
  {
   "cell_type": "markdown",
   "id": "afd789e7",
   "metadata": {},
   "source": [
    "## Fill Null Values in sched_dep_time Column By Other Value's Mean "
   ]
  },
  {
   "cell_type": "code",
   "execution_count": null,
   "id": "9e99641f",
   "metadata": {},
   "outputs": [],
   "source": [
    "x = df[\"sched_dep_time\"].mean()\n",
    "df[\"sched_dep_time\"].fillna(x, inplace=True)"
   ]
  },
  {
   "cell_type": "markdown",
   "id": "aecfaf99",
   "metadata": {},
   "source": [
    "## Fill Null Values in dep_delay Column By Other Value's Mean "
   ]
  },
  {
   "cell_type": "code",
   "execution_count": null,
   "id": "f806cb14",
   "metadata": {},
   "outputs": [],
   "source": [
    "x = df[\"dep_delay\"].mean()\n",
    "df[\"dep_delay\"].fillna(x, inplace=True)"
   ]
  },
  {
   "cell_type": "markdown",
   "id": "429a47e3",
   "metadata": {},
   "source": [
    "## Fill Null Values in arr_time Column By Other Value's Mean "
   ]
  },
  {
   "cell_type": "code",
   "execution_count": null,
   "id": "b8fd8b60",
   "metadata": {},
   "outputs": [],
   "source": [
    "x = df[\"arr_time\"].mean()\n",
    "df[\"arr_time\"].fillna(x, inplace=True)"
   ]
  },
  {
   "cell_type": "markdown",
   "id": "c949e2c9",
   "metadata": {},
   "source": [
    "## Fill Null Values in sched_arr_time Column By Other Value's Mean "
   ]
  },
  {
   "cell_type": "code",
   "execution_count": null,
   "id": "81684106",
   "metadata": {},
   "outputs": [],
   "source": [
    "x = df[\"sched_arr_time\"].mean()\n",
    "df[\"sched_arr_time\"].fillna(x, inplace=True)"
   ]
  },
  {
   "cell_type": "markdown",
   "id": "235fba2e",
   "metadata": {},
   "source": [
    "## Fill Null Values in arr_delay Column By Other Value's Mean "
   ]
  },
  {
   "cell_type": "code",
   "execution_count": null,
   "id": "c3ef0ed1",
   "metadata": {},
   "outputs": [],
   "source": [
    "x = df[\"arr_delay\"].mean()\n",
    "df[\"arr_delay\"].fillna(x, inplace=True)"
   ]
  },
  {
   "cell_type": "markdown",
   "id": "dc44e38c",
   "metadata": {},
   "source": [
    "## Fill Null Values in air_time Column By Other Value's Mean "
   ]
  },
  {
   "cell_type": "code",
   "execution_count": null,
   "id": "3af7075a",
   "metadata": {},
   "outputs": [],
   "source": [
    "x = df[\"air_time\"].mean()\n",
    "df[\"air_time\"].fillna(x, inplace=True)"
   ]
  },
  {
   "cell_type": "markdown",
   "id": "04a6b7b7",
   "metadata": {},
   "source": [
    "## Fill Null Values in distance Column By Other Value's Mean "
   ]
  },
  {
   "cell_type": "code",
   "execution_count": null,
   "id": "e7354c56",
   "metadata": {},
   "outputs": [],
   "source": [
    "x = df[\"distance\"].mean()\n",
    "df[\"distance\"].fillna(x, inplace=True)"
   ]
  },
  {
   "cell_type": "markdown",
   "id": "a228a6c2",
   "metadata": {},
   "source": [
    "## Fill Null Values in hour Column By Other Value's Mean "
   ]
  },
  {
   "cell_type": "code",
   "execution_count": null,
   "id": "2754bbca",
   "metadata": {},
   "outputs": [],
   "source": [
    "x = df[\"hour\"].mean()\n",
    "df[\"hour\"].fillna(x, inplace=True)"
   ]
  },
  {
   "cell_type": "markdown",
   "id": "f6de7fa1",
   "metadata": {},
   "source": [
    "## Fill Null Values in minute Column By Other Value's Mean "
   ]
  },
  {
   "cell_type": "code",
   "execution_count": null,
   "id": "4c433259",
   "metadata": {},
   "outputs": [],
   "source": [
    "x = df[\"minute\"].mean()\n",
    "df[\"minute\"].fillna(x, inplace=True)"
   ]
  },
  {
   "cell_type": "markdown",
   "id": "1ef912e1",
   "metadata": {},
   "source": [
    "## Deleting hour Column's Value If Equal Or Greater Than 24 "
   ]
  },
  {
   "cell_type": "code",
   "execution_count": null,
   "id": "61e68114",
   "metadata": {},
   "outputs": [],
   "source": [
    "for x in df.index:\n",
    "    if df.loc[x, \"hour\"] >= 24:\n",
    "        df.drop(x, inplace=True)"
   ]
  },
  {
   "cell_type": "markdown",
   "id": "6860b6c3",
   "metadata": {},
   "source": [
    "##  Drop minute Column's Value If Equal Or Greater Than 60"
   ]
  },
  {
   "cell_type": "code",
   "execution_count": null,
   "id": "b269a07a",
   "metadata": {},
   "outputs": [],
   "source": [
    "for x in df.index:\n",
    "    if df.loc[x, \"minute\"] >= 60:\n",
    "        df.drop(x, inplace=True)"
   ]
  },
  {
   "cell_type": "markdown",
   "id": "0181ba7f",
   "metadata": {},
   "source": [
    "## Deleting All Duplicate Rows Without Creating New DataFrame(inplace=True)"
   ]
  },
  {
   "cell_type": "code",
   "execution_count": null,
   "id": "9e3c6e4f",
   "metadata": {},
   "outputs": [],
   "source": [
    "df.drop_duplicates(inplace=True)"
   ]
  },
  {
   "cell_type": "markdown",
   "id": "fe7fc721",
   "metadata": {},
   "source": [
    "## Calculation Table of Pairwise Correlation of all Columns "
   ]
  },
  {
   "cell_type": "code",
   "execution_count": null,
   "id": "8f7d281f",
   "metadata": {
    "scrolled": true
   },
   "outputs": [],
   "source": [
    "df.corr()"
   ]
  },
  {
   "cell_type": "markdown",
   "id": "492c7381",
   "metadata": {},
   "source": [
    "## Sum of All Null Values in Each Column "
   ]
  },
  {
   "cell_type": "code",
   "execution_count": null,
   "id": "346d2218",
   "metadata": {},
   "outputs": [],
   "source": [
    "df.isnull().sum()"
   ]
  },
  {
   "cell_type": "markdown",
   "id": "35a43ab7",
   "metadata": {},
   "source": [
    "## CrossTable of Origin & Destination Columns By Normalizing Every Values "
   ]
  },
  {
   "cell_type": "code",
   "execution_count": null,
   "id": "18eafa0a",
   "metadata": {},
   "outputs": [],
   "source": [
    "pd.crosstab(df[\"origin\"], df[\"dest\"], normalize = 'index')"
   ]
  },
  {
   "cell_type": "markdown",
   "id": "6d2c2650",
   "metadata": {},
   "source": [
    "##  CrossTable of Airline's Name & Carrier Columns"
   ]
  },
  {
   "cell_type": "code",
   "execution_count": null,
   "id": "19cfb0d8",
   "metadata": {},
   "outputs": [],
   "source": [
    "pd.crosstab(df[\"name\"], df[\"carrier\"])"
   ]
  },
  {
   "cell_type": "markdown",
   "id": "ed514d60",
   "metadata": {},
   "source": [
    "## Pivot Table By Mean & Count Aggregate Function   on dep_time & sched_dep_time & dep_delay & arr_time columns appling Each Carrier Types"
   ]
  },
  {
   "cell_type": "code",
   "execution_count": null,
   "id": "82115970",
   "metadata": {},
   "outputs": [],
   "source": [
    "df.pivot_table(\n",
    "    [\"dep_time\", \"sched_dep_time\", \"dep_delay\", \"arr_time\"],\n",
    "    [\"carrier\"],\n",
    "    aggfunc = [\"mean\", \"count\"],\n",
    ").head(10)"
   ]
  },
  {
   "cell_type": "markdown",
   "id": "faaa3faa",
   "metadata": {},
   "source": [
    "## All Dataset Columns"
   ]
  },
  {
   "cell_type": "code",
   "execution_count": null,
   "id": "ec8db456",
   "metadata": {
    "scrolled": false
   },
   "outputs": [],
   "source": [
    "df.columns"
   ]
  },
  {
   "cell_type": "markdown",
   "id": "503c5c31",
   "metadata": {},
   "source": [
    "## Colculate Kurtosis on arr_delay Column "
   ]
  },
  {
   "cell_type": "code",
   "execution_count": null,
   "id": "25247627",
   "metadata": {},
   "outputs": [],
   "source": [
    "df['arr_delay'].kurtosis()"
   ]
  },
  {
   "cell_type": "markdown",
   "id": "89e130b1",
   "metadata": {},
   "source": [
    "## Colculate skewness on arr_delay Column"
   ]
  },
  {
   "cell_type": "code",
   "execution_count": null,
   "id": "d9500818",
   "metadata": {},
   "outputs": [],
   "source": [
    "df['arr_delay'].skew()"
   ]
  },
  {
   "cell_type": "markdown",
   "id": "4b85a565",
   "metadata": {},
   "source": [
    "## Colculate Standard Deviation on arr_delay Column"
   ]
  },
  {
   "cell_type": "code",
   "execution_count": null,
   "id": "a1728079",
   "metadata": {
    "scrolled": true
   },
   "outputs": [],
   "source": [
    "df['arr_delay'].std()"
   ]
  },
  {
   "cell_type": "markdown",
   "id": "76a778af",
   "metadata": {},
   "source": [
    "## Colculate Average on arr_delay Column"
   ]
  },
  {
   "cell_type": "code",
   "execution_count": null,
   "id": "fa9387c4",
   "metadata": {},
   "outputs": [],
   "source": [
    "df['arr_delay'].mean()"
   ]
  },
  {
   "cell_type": "markdown",
   "id": "41e3ae67",
   "metadata": {},
   "source": [
    "## Colculate Mode on arr_delay Column"
   ]
  },
  {
   "cell_type": "code",
   "execution_count": null,
   "id": "667c4b67",
   "metadata": {},
   "outputs": [],
   "source": [
    "df['arr_delay'].mode()"
   ]
  },
  {
   "cell_type": "markdown",
   "id": "a6b15f51",
   "metadata": {},
   "source": [
    "## Colculate Median on  arr_delay Column"
   ]
  },
  {
   "cell_type": "code",
   "execution_count": null,
   "id": "3316b625",
   "metadata": {},
   "outputs": [],
   "source": [
    "df['arr_delay'].median()"
   ]
  },
  {
   "cell_type": "markdown",
   "id": "7035f118",
   "metadata": {},
   "source": [
    "## Drawing Histogram Graph on arr_delay column by Values Less Than 200"
   ]
  },
  {
   "cell_type": "code",
   "execution_count": null,
   "id": "3fbf97ec",
   "metadata": {
    "scrolled": true
   },
   "outputs": [],
   "source": [
    "df['arr_delay'][df['arr_delay'] < 200].hist(bins=300)"
   ]
  },
  {
   "cell_type": "markdown",
   "id": "bfc352c6",
   "metadata": {},
   "source": [
    "## Drawing All Categorical Columns By count Plots "
   ]
  },
  {
   "cell_type": "code",
   "execution_count": null,
   "id": "9bb84595",
   "metadata": {},
   "outputs": [],
   "source": [
    "fig, axes = plt.subplots(5, 1, figsize = (18, 18))\n",
    "fig.suptitle('Bar plot for all categorical variables in the dataset')\n",
    "sns.countplot(ax = axes[0], x = 'carrier', data = df, color = 'blue', \n",
    "              order = df['carrier'].value_counts().index);\n",
    "sns.countplot(ax = axes[1], x = 'tailnum', data = df, color = 'blue', \n",
    "              order = df['tailnum'].value_counts().index);\n",
    "sns.countplot(ax = axes[2], x = 'origin', data = df, color = 'blue', \n",
    "              order = df['origin'].value_counts().index);\n",
    "sns.countplot(ax = axes[3], x = 'dest', data = df, color = 'blue', \n",
    "              order = df['dest'].value_counts().index);\n",
    "sns.countplot(ax = axes[4], x = 'name', data = df, color = 'blue', \n",
    "              order = df['name'].value_counts().index);"
   ]
  },
  {
   "cell_type": "markdown",
   "id": "b77ffa07",
   "metadata": {},
   "source": [
    "## Drawing Scatter_matrix Graph on dep_delay & arr_delay & disatnce Columns(Diagonal Graph is KDE)"
   ]
  },
  {
   "cell_type": "code",
   "execution_count": null,
   "id": "ce53f764",
   "metadata": {},
   "outputs": [],
   "source": [
    "pd.plotting.scatter_matrix(\n",
    "    df[[\"dep_delay\", \"arr_delay\", \"distance\"]],\n",
    "    figsize = (15, 15),\n",
    "    diagonal = \"kde\")\n",
    "plt.show()"
   ]
  },
  {
   "cell_type": "markdown",
   "id": "f75fbb3b",
   "metadata": {},
   "source": [
    "## Simple Histogram on Carrier Column"
   ]
  },
  {
   "cell_type": "code",
   "execution_count": null,
   "id": "53b5e0bd",
   "metadata": {},
   "outputs": [],
   "source": [
    "df[\"carrier\"].hist()"
   ]
  },
  {
   "cell_type": "markdown",
   "id": "153fd6e5",
   "metadata": {},
   "source": [
    "##  Simple Histogram on Origin Column"
   ]
  },
  {
   "cell_type": "code",
   "execution_count": null,
   "id": "977dec3d",
   "metadata": {},
   "outputs": [],
   "source": [
    "df[\"origin\"].hist()"
   ]
  },
  {
   "cell_type": "markdown",
   "id": "811a32cd",
   "metadata": {},
   "source": [
    "## Simple Histogram on Flight Column "
   ]
  },
  {
   "cell_type": "code",
   "execution_count": null,
   "id": "afb679ac",
   "metadata": {},
   "outputs": [],
   "source": [
    "df[\"flight\"].hist()"
   ]
  },
  {
   "cell_type": "markdown",
   "id": "5ac261ed",
   "metadata": {},
   "source": [
    "## Histogram on All  Numeric Columns"
   ]
  },
  {
   "cell_type": "code",
   "execution_count": null,
   "id": "6f4447ed",
   "metadata": {},
   "outputs": [],
   "source": [
    "df.hist(color = \"k\",\n",
    "        bins = 20,\n",
    "        figsize = (15, 10))\n",
    "plt.show()"
   ]
  },
  {
   "cell_type": "markdown",
   "id": "e3261f20",
   "metadata": {},
   "source": [
    "## Drawing Boxplot on column dep_time Seperated By Origin Types "
   ]
  },
  {
   "cell_type": "code",
   "execution_count": null,
   "id": "ea0b4016",
   "metadata": {},
   "outputs": [],
   "source": [
    "df.boxplot(column = \"dep_time\",\n",
    "           by = \"origin\")\n",
    "plt.show()"
   ]
  },
  {
   "cell_type": "markdown",
   "id": "bc9caed6",
   "metadata": {},
   "source": [
    "## Drawing Boxplot on column arr_time Seperated By Origin Types "
   ]
  },
  {
   "cell_type": "code",
   "execution_count": null,
   "id": "e7826451",
   "metadata": {},
   "outputs": [],
   "source": [
    "df.boxplot(column = \"arr_time\",\n",
    "           by = \"origin\")\n",
    "plt.show()"
   ]
  },
  {
   "cell_type": "markdown",
   "id": "20154d05",
   "metadata": {},
   "source": [
    "## Drawing Boxplot on column distance Seperated By Origin Types "
   ]
  },
  {
   "cell_type": "code",
   "execution_count": null,
   "id": "6ace55fb",
   "metadata": {},
   "outputs": [],
   "source": [
    "df.boxplot(column = \"distance\",\n",
    "           by = \"origin\")\n",
    "plt.show()"
   ]
  },
  {
   "cell_type": "markdown",
   "id": "fcefcc59",
   "metadata": {},
   "source": [
    "## Drawing Boxplot on column air_time Seperated By Origin Types"
   ]
  },
  {
   "cell_type": "code",
   "execution_count": null,
   "id": "12496c4c",
   "metadata": {},
   "outputs": [],
   "source": [
    "df.boxplot(column = \"air_time\",\n",
    "           by = \"origin\")\n",
    "plt.show()"
   ]
  },
  {
   "cell_type": "markdown",
   "id": "bd41a427",
   "metadata": {},
   "source": [
    "## Drawing a Heatmap Graph on CrossTable Created with Origin & Destination  "
   ]
  },
  {
   "cell_type": "code",
   "execution_count": null,
   "id": "b4e2f8ef",
   "metadata": {},
   "outputs": [],
   "source": [
    "df_cross = pd.crosstab(df[\"origin\"], df[\"dest\"]).copy()\n",
    "print(df_cross)\n",
    "sns.heatmap(df_cross)"
   ]
  },
  {
   "cell_type": "markdown",
   "id": "56721be6",
   "metadata": {},
   "source": [
    "## Drawing a Green Heatmap Graph on CrossTable Created with Origin & Destination  "
   ]
  },
  {
   "cell_type": "code",
   "execution_count": null,
   "id": "e9406b3a",
   "metadata": {},
   "outputs": [],
   "source": [
    "fig, ax = plt.subplots(figsize=(8,5))\n",
    "custom_cmap_2 = sns.light_palette(\"green\", as_cmap=False)\n",
    "sns.heatmap(df_cross, annot=True, fmt='.0f', cmap=custom_cmap_2, ax=ax)\n",
    "ax.set_ylabel('origin_location')\n",
    "ax.set_xlabel('destination_location')"
   ]
  },
  {
   "cell_type": "markdown",
   "id": "9d19cde3",
   "metadata": {},
   "source": [
    "## Drawing a PairPlot Graph on   dep_time & dep_delay & arr_time with Origin Types Coloring"
   ]
  },
  {
   "cell_type": "code",
   "execution_count": null,
   "id": "fa2c19e5",
   "metadata": {
    "scrolled": true
   },
   "outputs": [],
   "source": [
    "sns.pairplot(df, \n",
    "             x_vars=['dep_time', 'dep_delay', 'arr_time'], \n",
    "             y_vars=['dep_time', 'dep_delay', 'arr_time'],\n",
    "             hue='origin')"
   ]
  }
 ],
 "metadata": {
  "kernelspec": {
   "display_name": "Python 3 (ipykernel)",
   "language": "python",
   "name": "python3"
  },
  "language_info": {
   "codemirror_mode": {
    "name": "ipython",
    "version": 3
   },
   "file_extension": ".py",
   "mimetype": "text/x-python",
   "name": "python",
   "nbconvert_exporter": "python",
   "pygments_lexer": "ipython3",
   "version": "3.10.9"
  }
 },
 "nbformat": 4,
 "nbformat_minor": 5
}
